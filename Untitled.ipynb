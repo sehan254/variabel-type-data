{
 "cells": [
  {
   "cell_type": "markdown",
   "id": "1e5e0fc3",
   "metadata": {},
   "source": [
    "   <h1>Variabel dan tipe data Phyton</h1><hr>\n",
    "    <font color=\"red\"> beberapa </font> aturan pembuata variabel di <b>python</b>:\n",
    "   "
   ]
  },
  {
   "cell_type": "markdown",
   "id": "8a78b07a",
   "metadata": {},
   "source": [
    "<ol>\n",
    "    <li> Bersifat case sensitif => A != a</li>\n",
    "    <li> Harus diawali dengan huruf besar atau karakter _(underscore)</li>\n",
    "    </ol>\n",
    "    "
   ]
  },
  {
   "cell_type": "code",
   "execution_count": 8,
   "id": "2b34223c",
   "metadata": {},
   "outputs": [
    {
     "name": "stdout",
     "output_type": "stream",
     "text": [
      "10\n",
      "100.7\n",
      "1\n",
      "True\n"
     ]
    }
   ],
   "source": [
    "data_int = 10\n",
    "data_float = 100.7\n",
    "data_string = '1'\n",
    "data_bool =  True\n",
    "\n",
    "print(data_int)\n",
    "print(data_float)\n",
    "print(data_string)\n",
    "print(data_bool)\n",
    "\n"
   ]
  },
  {
   "cell_type": "code",
   "execution_count": null,
   "id": "d0c064ab",
   "metadata": {},
   "outputs": [],
   "source": [
    "    Untuk menegtahui type data  ai sebuah variabel gunakan command <b>type</b>"
   ]
  },
  {
   "cell_type": "code",
   "execution_count": 9,
   "id": "e9b81f6f",
   "metadata": {},
   "outputs": [
    {
     "name": "stdout",
     "output_type": "stream",
     "text": [
      "<class 'int'>\n",
      "<class 'float'>\n",
      "<class 'str'>\n",
      "<class 'bool'>\n"
     ]
    }
   ],
   "source": [
    "print (type(data_int))\n",
    "print (type(data_float))\n",
    "print (type(data_string))\n",
    "print (type(data_bool))"
   ]
  },
  {
   "cell_type": "code",
   "execution_count": null,
   "id": "a5f416b6",
   "metadata": {},
   "outputs": [],
   "source": [
    "Pada python terdapat proses <b>CASTING<b> yaitu konversi dari sebuah tipe data ke tipe data yang lain yaitu singan syntax <b>tipe_data(nama_variabel)</b>\n"
   ]
  },
  {
   "cell_type": "code",
   "execution_count": 12,
   "id": "ab82bf6f",
   "metadata": {},
   "outputs": [
    {
     "name": "stdout",
     "output_type": "stream",
     "text": [
      "Nilai variable data_int 10\n",
      "10.0\n",
      "10\n",
      "True\n"
     ]
    }
   ],
   "source": [
    "int_to_float = float(data_int)\n",
    "int_to_string = str(data_int)\n",
    "int_to_bool = bool(data_int)\n",
    "\n",
    "print(\"Nilai variable data_int\",data_int)\n",
    "print(int_to_float)\n",
    "print(int_to_string)\n",
    "print(int_to_bool)\n",
    "\n",
    "\n"
   ]
  },
  {
   "cell_type": "code",
   "execution_count": 21,
   "id": "3c652597",
   "metadata": {},
   "outputs": [
    {
     "name": "stdout",
     "output_type": "stream",
     "text": [
      "1.0\n",
      "True\n"
     ]
    }
   ],
   "source": [
    "str_to_int = int(data_string)\n",
    "str_to_float =float(data_string)\n",
    "str_to_bool =bool(data_string)\n",
    "\n",
    "print(str_to_float)\n",
    "print(str_to_bool)"
   ]
  },
  {
   "cell_type": "code",
   "execution_count": 22,
   "id": "52e2168f",
   "metadata": {},
   "outputs": [
    {
     "name": "stdout",
     "output_type": "stream",
     "text": [
      "100.7\n",
      "100\n"
     ]
    }
   ],
   "source": [
    "float_to_int =int(data_float)\n",
    "float_to_float=float(data_float)\n",
    "float_to_bool=bool(data_float)\n",
    "\n",
    "\n",
    "print(float_to_float)\n",
    "print(float_to_int)\n"
   ]
  },
  {
   "cell_type": "code",
   "execution_count": 27,
   "id": "a059090b",
   "metadata": {},
   "outputs": [
    {
     "name": "stdout",
     "output_type": "stream",
     "text": [
      "1.0\n",
      "True\n"
     ]
    }
   ],
   "source": [
    "bool_to_int =int(data_bool)\n",
    "bool_to_float=float(data_bool)\n",
    "bool_to_str=str(data_bool)\n",
    "\n",
    "\n",
    "print(bool_to_float)\n",
    "print(bool_to_str)\n"
   ]
  },
  {
   "cell_type": "code",
   "execution_count": 33,
   "id": "34da4b5a",
   "metadata": {},
   "outputs": [
    {
     "name": "stdout",
     "output_type": "stream",
     "text": [
      "isikan bilangan 110\n",
      "isikan bilangan 25\n",
      "hasil pemjumlahan 15\n",
      "hasil pembagian 2.0\n"
     ]
    }
   ],
   "source": [
    "bil1 = int(input(\"isikan bilangan 1\"))\n",
    "bil2 = int(input(\"isikan bilangan 2\"))\n",
    "hasil_tambah = bil1 + bil2\n",
    "hasil_bagi = bil1 / bil2\n",
    "print(\"hasil pemjumlahan\",hasil_tambah)\n",
    "print(\"hasil pembagian\",hasil_bagi)\n"
   ]
  },
  {
   "cell_type": "code",
   "execution_count": null,
   "id": "8d80774b",
   "metadata": {},
   "outputs": [],
   "source": []
  }
 ],
 "metadata": {
  "kernelspec": {
   "display_name": "Python 3 (ipykernel)",
   "language": "python",
   "name": "python3"
  },
  "language_info": {
   "codemirror_mode": {
    "name": "ipython",
    "version": 3
   },
   "file_extension": ".py",
   "mimetype": "text/x-python",
   "name": "python",
   "nbconvert_exporter": "python",
   "pygments_lexer": "ipython3",
   "version": "3.9.12"
  }
 },
 "nbformat": 4,
 "nbformat_minor": 5
}
